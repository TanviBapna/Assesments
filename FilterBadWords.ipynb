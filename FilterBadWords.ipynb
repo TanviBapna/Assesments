{
 "cells": [
  {
   "cell_type": "markdown",
   "metadata": {},
   "source": [
    "<b>Questions: Filter Bad Words</b><br>\n",
    "<b>Globbing:</b><br>\n",
    "\n",
    "<b>Sample Case 1:</b><br>\n",
    "<b>Input: </b><br>\n",
    "badWords='jerk lame'<br>\n",
    "message =\"You are such a jerk. I blame you for this.\"<br>\n",
    "\n",
    "<b>Output: </b><br>\n",
    "You are such a ****. I blame you for this.<br>\n",
    "\n",
    "<b>Sample Case 2:</b><br>\n",
    "<b>Input: </b><br>\n",
    "badWords='jerk lame*'<br>\n",
    "message =\"You are such a jerk. I blame you for this.\"<br>\n",
    "\n",
    "<b>Output: </b><br>\n",
    "You are such a ****. I ***** you for this."
   ]
  },
  {
   "cell_type": "code",
   "execution_count": 1,
   "metadata": {
    "collapsed": true
   },
   "outputs": [],
   "source": [
    "import math\n",
    "import os\n",
    "import random\n",
    "import re\n",
    "import sys"
   ]
  },
  {
   "cell_type": "code",
   "execution_count": 5,
   "metadata": {
    "collapsed": true
   },
   "outputs": [],
   "source": [
    "# The function is expected to return a STRING.\n",
    "# The function accepts following parameters:\n",
    "#  1. STRING badWords\n",
    "#  2. STRING message\n",
    "#\n",
    "def filterBadWords(badWords, message):\n",
    "    # Write your code here\n",
    "    bad = badWords.split(\" \")\n",
    "    message1 = message\n",
    "    message1 = re.sub(r'[^\\w\\s]', '', message1) \n",
    "    mess = message1.split(\" \")  \n",
    "#     print(mess)\n",
    "    x = ['.',',','!','?',';','(',')']\n",
    "    s = \"\"\n",
    "    for i in mess:\n",
    "        if i in bad or i.lower() in bad:\n",
    "            s = s + str('*'*len(i)) +\" \"\n",
    "            \n",
    "        elif i in x:\n",
    "            s = s[:len(s)] + i+\" \"\n",
    "            \n",
    "        else:\n",
    "            s = s + i + \" \"\n",
    "       \n",
    "    # Globbing  \n",
    "    mess = s.split(\" \")      \n",
    "    s1 = \"\"\n",
    "    for i in mess:\n",
    "        flag =0\n",
    "        for j in bad:\n",
    "            if j.find(\"*\") !=-1:\n",
    "                x = j.replace(\"*\",\"\")\n",
    "                if (i.find(x) != -1 or i.lower().find(x)!=-1): \n",
    "                    s1 = s1 + str('*'*len(i)) +\" \"\n",
    "                    flag =1\n",
    "                    break\n",
    "        if flag !=1:\n",
    "            s1 = s1 + i + \" \"\n",
    "                       \n",
    "    for i in range(len(message)) :\n",
    "        if  message[i] == '.' or message[i] == ',' or message[i] == '!' or message[i] == '?' or message[i] == ';' or message[i] == '(' or message[i]==')' or message[i]=='\"' or message[i]==\"'\":\n",
    "            s1 = s1[:i] + message[i] +s1[i:]\n",
    "    \n",
    "    return s1"
   ]
  },
  {
   "cell_type": "code",
   "execution_count": 6,
   "metadata": {},
   "outputs": [
    {
     "name": "stdout",
     "output_type": "stream",
     "text": [
      "You are such a ****. I ***** you for this.  \n"
     ]
    }
   ],
   "source": [
    "badWords='jerk lame*'\n",
    "message =\"You are such a jerk. I blame you for this.\"\n",
    "print(filterBadWords(badWords, message))"
   ]
  },
  {
   "cell_type": "code",
   "execution_count": null,
   "metadata": {
    "collapsed": true
   },
   "outputs": [],
   "source": []
  }
 ],
 "metadata": {
  "kernelspec": {
   "display_name": "Python 3",
   "language": "python",
   "name": "python3"
  },
  "language_info": {
   "codemirror_mode": {
    "name": "ipython",
    "version": 3
   },
   "file_extension": ".py",
   "mimetype": "text/x-python",
   "name": "python",
   "nbconvert_exporter": "python",
   "pygments_lexer": "ipython3",
   "version": "3.6.4"
  }
 },
 "nbformat": 4,
 "nbformat_minor": 2
}
