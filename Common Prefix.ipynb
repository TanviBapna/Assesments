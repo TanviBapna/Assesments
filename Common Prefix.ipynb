{
 "cells": [
  {
   "cell_type": "markdown",
   "metadata": {},
   "source": [
    "<b>Question: Consider the only string in the array inputs = ['abcabcd']. Each suffix is  compared to the original string.\n",
    "</b>\n",
    "\n",
    "<table>\n",
    "<tr>\n",
    "    <th>Remove to leave suffix</th>\n",
    "    <th>Suffix</th>\n",
    "    <th>Common Prefix</th>\n",
    "    <th>Length</th>\n",
    "</tr>\n",
    "<tr>\n",
    "    <td>''</td>\n",
    "    <td>'abcabcd'</td>\n",
    "    <td>'abcabcd'</td>\n",
    "    <td>7</td>\n",
    "</tr>\n",
    "<tr>\n",
    "    <td>'a'</td>\n",
    "    <td>'bcabcd'</td>\n",
    "    <td>'abcabcd'</td>\n",
    "    <td>0</td>\n",
    "</tr>\n",
    "<tr>\n",
    "    <td>'ab'</td>\n",
    "    <td>'cabcd'</td>\n",
    "    <td>'abcabcd'</td>\n",
    "    <td>0</td>\n",
    "</tr>\n",
    "<tr>\n",
    "    <td>'abc'</td>\n",
    "    <td>'abcd'</td>\n",
    "    <td>'abc'</td>\n",
    "    <td>3</td>\n",
    "</tr>\n",
    "<tr>\n",
    "    <td>'abc'</td>\n",
    "    <td>'abcd'</td>\n",
    "    <td>'abc'</td>\n",
    "    <td>0</td>\n",
    "</tr>\n",
    "<tr>\n",
    "    <td>'abcab'</td>\n",
    "    <td>'cd'</td>\n",
    "    <td>'abc'</td>\n",
    "    <td>0</td>\n",
    "</tr>\n",
    "<tr>\n",
    "    <td>'abcabc'</td>\n",
    "    <td>'d'</td>\n",
    "    <td>'abc'</td>\n",
    "    <td>0</td>\n",
    "</tr>\n",
    "</table>\n",
    "The sum is 7 + 0 + 0 + 3 + 0 + 0 + 0 = 10.\n",
    "\n",
    "<b>Function Description : </b><br>\n",
    "Complete the function common Prefix in the editor below.\n",
    "commonPrefix() has the following parameter(s): <br>\n",
    "string inputs[n]: an array of strings\n",
    "\n",
    "Returns:\n",
    "int[]: The sums of the common prefix lengths for each test case\n",
    "\n",
    "<b>Constraints:</b><br>\n",
    "1<=n<=10<br>\n",
    "1<= |inputs[i]| <=10^5<br>\n",
    "Each inputs[i] contains only letters in the range ascii[a-z].<br>\n",
    "<b>Sample Case 1:</b><br>\n",
    "<b>Sample Input:</b><br>\n",
    "<table>\n",
    "<tr>\n",
    "    <th>STDIN</th>\n",
    "    <th>Function</th>\n",
    "</tr>\n",
    "<tr>\n",
    "    <td>1</td>\n",
    "    <td>number of test cases n = 1'</td>\n",
    "</tr>\n",
    "<tr>\n",
    "    <td>ababaa</td>\n",
    "    <td>inputs = ['ababaa']</td>\n",
    "</tr>\n",
    "</table>\n",
    "<b>Sample Output: </b><br>\n",
    "11\n",
    "\n",
    "<b>Explanation:</b><br>\n",
    "n = 1<br>\n",
    "inputs = ['ababaa']<br>\n",
    "The suffixes are ['ababaa', 'babaa', 'abaa', 'baa', 'aa', 'a']. The common prefix lengths of each of these suffixes with the original string are [6, 0,3,0, 1, 1] respectively, and they sum to 11."
   ]
  },
  {
   "cell_type": "markdown",
   "metadata": {},
   "source": []
  },
  {
   "cell_type": "code",
   "execution_count": null,
   "metadata": {
    "collapsed": true
   },
   "outputs": [],
   "source": [
    "def fun(s,input1):\n",
    "    count = 0\n",
    "    for i in range(len(s)):\n",
    "        if s[i]==input1[i]:\n",
    "            count=count+1\n",
    "        else:\n",
    "            break\n",
    "    return count"
   ]
  },
  {
   "cell_type": "code",
   "execution_count": null,
   "metadata": {
    "collapsed": true
   },
   "outputs": [],
   "source": [
    "def commonPrefix(inputs):\n",
    "    length = len(inputs)\n",
    "    x = 0\n",
    "    for i in range(length):\n",
    "        s1=inputs[0:i]\n",
    "        s2=inputs[i:length]\n",
    "        print(s1,\" \",s2)\n",
    "        x = x + fun(s2,inputs)\n",
    "    return x"
   ]
  },
  {
   "cell_type": "code",
   "execution_count": null,
   "metadata": {
    "collapsed": true
   },
   "outputs": [],
   "source": [
    "# print(commonPrefix(\"ababaa\"))\n",
    "print(commonPrefix(\"aa\"))"
   ]
  }
 ],
 "metadata": {
  "kernelspec": {
   "display_name": "Python 3",
   "language": "python",
   "name": "python3"
  },
  "language_info": {
   "codemirror_mode": {
    "name": "ipython",
    "version": 3
   },
   "file_extension": ".py",
   "mimetype": "text/x-python",
   "name": "python",
   "nbconvert_exporter": "python",
   "pygments_lexer": "ipython3",
   "version": "3.6.4"
  }
 },
 "nbformat": 4,
 "nbformat_minor": 2
}
