{
 "cells": [
  {
   "cell_type": "markdown",
   "metadata": {},
   "source": [
    "<b>Question : Matrix Summation</b><br>\n",
    "\n",
    "The algorithm below is used to convert the \"before matrix\" to \"after matrix\". Find the \"before matrix\" given the \"after matrix\".<br>\n",
    "<b>Algorithm :</b><br>\n",
    "s = 0;\n",
    "for (i = 0; i < x; i += 1) \n",
    "{\n",
    "    for (j = 0; j < y; j += 1) \n",
    "    { \n",
    "        s = s + before(i, j);\n",
    "    }\n",
    "}\n",
    "after (x, y) = s;\n",
    "\n",
    "<b>Note: </b>The algorithm is run for each after(x, y) to determine their values. Given after, find the original values in before.<br>\n",
    "\n",
    "<b>Example</b>If array before = [[2,3), (5,7]], then after =[[2,5], [7,17]]\n",
    "\n",
    "<b>Write a program to convert the \"after matrix\" into \"before matrix\"</b>"
   ]
  },
  {
   "cell_type": "code",
   "execution_count": null,
   "metadata": {
    "collapsed": true
   },
   "outputs": [],
   "source": [
    "import math\n",
    "import os\n",
    "import random\n",
    "import re\n",
    "import sys"
   ]
  },
  {
   "cell_type": "code",
   "execution_count": null,
   "metadata": {
    "collapsed": true
   },
   "outputs": [],
   "source": [
    "# The function is expected to return a 2D_INTEGER_ARRAY.\n",
    "# The function accepts 2D_INTEGER_ARRAY after as parameter.\n",
    "def fun(s,x,y,after):\n",
    "    # print(\"\\t\\ts:\",s,\" x:\",x,\" y:\",y)\n",
    "    if x==0 and y==0:\n",
    "        return s\n",
    "    elif x==0 and y!=0:\n",
    "        for j in range(y):\n",
    "            # print(\"\\t\\tinner i: 0\",\" inner j:\",j)\n",
    "            s = s - after[0][j]\n",
    "    elif x!=0 and y==0:\n",
    "        for i in range(x):\n",
    "            # print(\"\\t\\tinner i: \",i,\" inner j:0\")\n",
    "            s = s - after[i][0]\n",
    "    else:\n",
    "        for i in range(0,x+1):\n",
    "            for j in range(0,y+1):\n",
    "                if i!=x or y!=j:\n",
    "                    # print(\"\\t\\tinner i: \",i,\" inner j:\",j)\n",
    "                    s = s - after[i][j]\n",
    "    return s"
   ]
  },
  {
   "cell_type": "code",
   "execution_count": null,
   "metadata": {
    "collapsed": true
   },
   "outputs": [],
   "source": [
    "def findBeforeMatrix(after):\n",
    "    x = len(after)\n",
    "    y = len(after[0])\n",
    "    for i in range(x):\n",
    "        for j in range(y):\n",
    "            # print(\"i: \",i,\" j:\",j)\n",
    "            # print(\"\\tBefore changes :\", after[i][j])\n",
    "            after[i][j] = fun(after[i][j],i,j,after)\n",
    "            # print(\"\\tAfter changes :\", after[i][j])\n",
    "    return after\n",
    "\n"
   ]
  },
  {
   "cell_type": "code",
   "execution_count": null,
   "metadata": {
    "collapsed": true
   },
   "outputs": [],
   "source": [
    "x = findBeforeMatrix([[9,12,14],[13,22,32],[29,56,88]])\n",
    "print(x)"
   ]
  }
 ],
 "metadata": {
  "kernelspec": {
   "display_name": "Python 3",
   "language": "python",
   "name": "python3"
  },
  "language_info": {
   "codemirror_mode": {
    "name": "ipython",
    "version": 3
   },
   "file_extension": ".py",
   "mimetype": "text/x-python",
   "name": "python",
   "nbconvert_exporter": "python",
   "pygments_lexer": "ipython3",
   "version": "3.6.4"
  }
 },
 "nbformat": 4,
 "nbformat_minor": 2
}
