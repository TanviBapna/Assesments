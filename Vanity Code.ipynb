{
 "cells": [
  {
   "cell_type": "markdown",
   "metadata": {},
   "source": [
    "<b>Question:</b> Vanity Code<br>\n",
    "\n",
    "<b>Input: </b>\n",
    "3<br>\n",
    "TWLO<br>\n",
    "CODE<br>\n",
    "HTCH<br>\n",
    "5<br>\n",
    "+17474824380<br>\n",
    "+14157088956<br>\n",
    "+919810155555 <br>\n",
    "+15109926333<br>\n",
    "+1415123456<br>\n",
    "\n",
    "<b>Output: </b><br>\n",
    "+14157088956 <br>\n",
    "+15109926333 <br>\n",
    "+17474824380 <br>\n",
    "\n",
    "<b>Explanation: </b><br>\n",
    "TWLO matches +14157088956<br>\n",
    "(+1415708-TWLO)<br>\n",
    "\n",
    "CODE matches +15109926333 <br>\n",
    "(+151099CODE-3)<br>\n",
    "\n",
    "\n",
    "\n"
   ]
  },
  {
   "cell_type": "code",
   "execution_count": null,
   "metadata": {
    "collapsed": true
   },
   "outputs": [],
   "source": [
    "import math\n",
    "import os\n",
    "import random\n",
    "import re\n",
    "import sys"
   ]
  },
  {
   "cell_type": "code",
   "execution_count": null,
   "metadata": {
    "collapsed": true
   },
   "outputs": [],
   "source": [
    "# The function is expected to return a STRING_ARRAY.\n",
    "# The function accepts following parameters:\n",
    "#  1. STRING_ARRAY codes\n",
    "#  2. STRING_ARRAY numbers\n",
    "#\n",
    "def vanity(codes, numbers):\n",
    "    # Write your code here\n",
    "    list1 = [['a','b','c'],['d','e','f'],['g','h','i'],['j','k','l'],['m','n','o'],['p','q','r','s'],['t','u','v'],['w','x','y','z']]\n",
    "    num1=[]\n",
    "\n",
    "    for i in codes:\n",
    "        i = i.lower()\n",
    "        num = \"\"\n",
    "        for j in i:\n",
    "            if j in list1[0]:\n",
    "                num = num + '2'\n",
    "            elif j in list1[1]:\n",
    "                num = num + '3'\n",
    "            elif j in list1[2]:\n",
    "                num = num + '4'\n",
    "            elif j in list1[3]:\n",
    "                num = num + '5'\n",
    "            elif j in list1[4]:\n",
    "                num = num + '6'\n",
    "            elif j in list1[5]:\n",
    "                num = num + '7'\n",
    "            elif j in list1[6]:\n",
    "                num = num + '8'\n",
    "            elif j in list1[7]:\n",
    "                num = num + '9'\n",
    "        num1.append(num)    \n",
    "    # print(num1)\n",
    "    result = []\n",
    "    flag=-1\n",
    "    for c in num1:\n",
    "        for i in numbers:\n",
    "            flag = i.find(c)\n",
    "            if (flag !=-1) and (i not in result):\n",
    "                result.append(i)\n",
    "                flag=-1\n",
    "    result = sorted(result)    \n",
    "    return result"
   ]
  },
  {
   "cell_type": "code",
   "execution_count": null,
   "metadata": {
    "collapsed": true
   },
   "outputs": [],
   "source": [
    "x = vanity([\"TWLO\",\"CODE\",\"HTCH\"],[\"+17474824380\", \"+14157088956\" , \"+919810155555\",  \"+15109926333\", \"+1415123456\"])\n",
    "print(x)"
   ]
  }
 ],
 "metadata": {
  "kernelspec": {
   "display_name": "Python 3",
   "language": "python",
   "name": "python3"
  },
  "language_info": {
   "codemirror_mode": {
    "name": "ipython",
    "version": 3
   },
   "file_extension": ".py",
   "mimetype": "text/x-python",
   "name": "python",
   "nbconvert_exporter": "python",
   "pygments_lexer": "ipython3",
   "version": "3.6.4"
  }
 },
 "nbformat": 4,
 "nbformat_minor": 2
}
