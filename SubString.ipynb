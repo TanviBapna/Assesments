{
 "cells": [
  {
   "cell_type": "markdown",
   "metadata": {},
   "source": [
    "<b>Question: SubString</b><br>\n",
    "Write a function to return number of time\n",
    "<b>Input: </b><br>\n",
    "t = \"abcdeabcde\"<br>\n",
    "s = \"ace\"<br>\n",
    "<b>Note: </b> Length of s will always be 3\n",
    "\n",
    "<b>Output: </b><br>\n",
    "2\n",
    "\n",
    "<b>Explanation: </b><br>\n",
    "    \"ace\" comes twice in the string \"abcdeabcde\""
   ]
  },
  {
   "cell_type": "code",
   "execution_count": 2,
   "metadata": {},
   "outputs": [],
   "source": [
    "def substring(t,s):\n",
    "    count = 0\n",
    "    if t == \"\":\n",
    "        return 0\n",
    "    else:\n",
    "        for i in range(len(t)-2):\n",
    "            st = t[i:i+6:2]\n",
    "            if st == s:\n",
    "                count = count+1\n",
    "        return count"
   ]
  },
  {
   "cell_type": "code",
   "execution_count": 4,
   "metadata": {},
   "outputs": [
    {
     "data": {
      "text/plain": [
       "0"
      ]
     },
     "execution_count": 4,
     "metadata": {},
     "output_type": "execute_result"
    }
   ],
   "source": [
    "t = \"abcdeabcde\"\n",
    "s = \"ace\" # always length will be 3\n",
    "substring(t,s)"
   ]
  },
  {
   "cell_type": "code",
   "execution_count": null,
   "metadata": {
    "collapsed": true
   },
   "outputs": [],
   "source": []
  }
 ],
 "metadata": {
  "kernelspec": {
   "display_name": "Python 3",
   "language": "python",
   "name": "python3"
  },
  "language_info": {
   "codemirror_mode": {
    "name": "ipython",
    "version": 3
   },
   "file_extension": ".py",
   "mimetype": "text/x-python",
   "name": "python",
   "nbconvert_exporter": "python",
   "pygments_lexer": "ipython3",
   "version": "3.6.4"
  }
 },
 "nbformat": 4,
 "nbformat_minor": 2
}
